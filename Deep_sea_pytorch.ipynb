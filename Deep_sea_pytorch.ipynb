{
 "cells": [
  {
   "cell_type": "code",
   "execution_count": 1,
   "metadata": {},
   "outputs": [],
   "source": [
    "import torch\n",
    "import numpy as np\n",
    "from torch import nn, optim\n",
    "import torch.nn.functional as F\n",
    "import scipy.io\n",
    "import h5py"
   ]
  },
  {
   "cell_type": "code",
   "execution_count": 2,
   "metadata": {},
   "outputs": [],
   "source": [
    "DATA_PATH = 'deepsea_train/'"
   ]
  },
  {
   "cell_type": "markdown",
   "metadata": {},
   "source": [
    "### Data exploration"
   ]
  },
  {
   "cell_type": "code",
   "execution_count": 3,
   "metadata": {},
   "outputs": [],
   "source": [
    "## TRAIN DATA ###\n",
    "train_data_raw = h5py.File(DATA_PATH+'train.mat')\n",
    "\n",
    "x_train = train_data_raw['trainxdata']\n",
    "y_train = train_data_raw['traindata']"
   ]
  },
  {
   "cell_type": "code",
   "execution_count": 4,
   "metadata": {},
   "outputs": [],
   "source": [
    "## VALIDATION DATA ###\n",
    "valid_data_raw = scipy.io.loadmat(DATA_PATH+'valid.mat')\n",
    "x_valid = valid_data_raw['validxdata']\n",
    "y_valid = valid_data_raw['validdata']"
   ]
  },
  {
   "cell_type": "markdown",
   "metadata": {},
   "source": [
    "Each training sample consists of a 1,000-bp sequence from the human GRCh37 reference genome centered on each 200-bp bin and is paired with a label vector for 919 chromatin features. \n",
    "\n",
    "The 1,000-bp DNA sequence is represented by a 1,000 × 4 binary matrix, with columns corresponding to A, G, C and T."
   ]
  },
  {
   "cell_type": "code",
   "execution_count": 10,
   "metadata": {},
   "outputs": [
    {
     "data": {
      "text/plain": [
       "(1000, 4, 4400000)"
      ]
     },
     "execution_count": 10,
     "metadata": {},
     "output_type": "execute_result"
    }
   ],
   "source": [
    "x_train.shape"
   ]
  },
  {
   "cell_type": "code",
   "execution_count": 7,
   "metadata": {},
   "outputs": [
    {
     "data": {
      "text/plain": [
       "(4, 4400000)"
      ]
     },
     "execution_count": 7,
     "metadata": {},
     "output_type": "execute_result"
    }
   ],
   "source": [
    "x_train[0].shape"
   ]
  },
  {
   "cell_type": "code",
   "execution_count": 9,
   "metadata": {},
   "outputs": [
    {
     "data": {
      "text/plain": [
       "(4400000,)"
      ]
     },
     "execution_count": 9,
     "metadata": {},
     "output_type": "execute_result"
    }
   ],
   "source": [
    "y_train[0].shape"
   ]
  },
  {
   "cell_type": "markdown",
   "metadata": {},
   "source": [
    "# Deep Sea"
   ]
  },
  {
   "cell_type": "code",
   "execution_count": null,
   "metadata": {},
   "outputs": [],
   "source": [
    "nfeats = 4\n",
    "height = 1\n",
    "nkernels = [320,480,960]\n",
    "dropouts = [0.2,0.5]"
   ]
  },
  {
   "cell_type": "code",
   "execution_count": null,
   "metadata": {},
   "outputs": [],
   "source": [
    "class deep_sea_nn(nn.Module):\n",
    "    def __init__(self):\n",
    "        super().__init__()\n",
    "        self.conv1 = nn.Conv1d(in_channels=nfeats,      out_channels=nkernels[0], kernel_size=8)\n",
    "        self.conv2 = nn.Conv1d(in_channels=nkernels[0], out_channels=nkernels[1], kernel_size=8)\n",
    "        self.conv3 = nn.Conv1d(in_channels=nkernels[1], out_channels=nkernels[2], kernel_size=8)\n",
    "        self.maxpool = nn.MaxPool1d(kernel_size=4, stride=4)\n",
    "        self.drop1 = nn.Dropout(p=dropouts[0])\n",
    "        self.drop2 = nn.Dropout(p=dropouts[1])\n",
    "        self.linear1 = nn.Linear(53*960, 925)\n",
    "        self.linear2 = nn.Linear(925, 919)\n",
    "    \n",
    "    def foward(self, input):\n",
    "        ## convolution 1 ##\n",
    "        ds = self.conv1(input)\n",
    "        ds = F.relu(ds)\n",
    "        ds = self.maxpool(ds)\n",
    "        ds = self.drop1(ds)\n",
    "        \n",
    "        ## convolution 2 ##\n",
    "        ds = self.conv2(input)\n",
    "        ds = F.relu(ds)\n",
    "        ds = self.maxpool(ds)\n",
    "        ds = self.drop1(ds)\n",
    "        \n",
    "        ## convolution 3 ##\n",
    "        ds = self.conv3(input)\n",
    "        ds = F.relu(ds)\n",
    "        ds = self.drop2(ds)\n",
    "        \n",
    "        ds = ds.view(-1, 53*960)\n",
    "        ds = self.Linear1(ds)\n",
    "        ds = F.relu(x)\n",
    "        ds = self.Linear2(ds)\n",
    "        \n",
    "        return ds\n",
    "        "
   ]
  },
  {
   "cell_type": "code",
   "execution_count": null,
   "metadata": {},
   "outputs": [],
   "source": [
    "## HYPERPARMETERS\n",
    "learning_rate = 0.01"
   ]
  },
  {
   "cell_type": "code",
   "execution_count": null,
   "metadata": {},
   "outputs": [],
   "source": [
    "deep_sea = deep_sea_nn()\n",
    "deep_sea.cuda()\n",
    "print(deep_sea)\n",
    "\n",
    "optimizer = optim.SGD(deep_sea.parameters(), lr=learning_rate,momentum=0.9)\n",
    "scheduler = torch.optim.lr_scheduler.ReduceLROnPlateau(optimizer, patience=5,verbose=1)\n",
    "loss_func = nn.BCEWithLogitsLoss()"
   ]
  },
  {
   "cell_type": "code",
   "execution_count": null,
   "metadata": {},
   "outputs": [],
   "source": []
  }
 ],
 "metadata": {
  "kernelspec": {
   "display_name": "Python 3",
   "language": "python",
   "name": "python3"
  },
  "language_info": {
   "codemirror_mode": {
    "name": "ipython",
    "version": 3
   },
   "file_extension": ".py",
   "mimetype": "text/x-python",
   "name": "python",
   "nbconvert_exporter": "python",
   "pygments_lexer": "ipython3",
   "version": "3.7.3"
  }
 },
 "nbformat": 4,
 "nbformat_minor": 4
}
