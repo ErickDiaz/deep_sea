{
 "cells": [
  {
   "cell_type": "raw",
   "metadata": {},
   "source": [
    "import torch\n",
    "import numpy as np\n",
    "from torch import nn, optim\n",
    "import torch.nn.functional as F\n",
    "import scipy.io\n",
    "import h5py\n",
    "import torch.utils.data as Data"
   ]
  },
  {
   "cell_type": "code",
   "execution_count": 2,
   "metadata": {},
   "outputs": [],
   "source": [
    "DATA_PATH = 'deepsea_train/'"
   ]
  },
  {
   "cell_type": "markdown",
   "metadata": {},
   "source": [
    "### Data exploration"
   ]
  },
  {
   "cell_type": "code",
   "execution_count": 3,
   "metadata": {},
   "outputs": [],
   "source": [
    "## VALIDATION DATA ###\n",
    "valid_data_raw = scipy.io.loadmat(DATA_PATH+'valid.mat')\n",
    "x_valid = torch.FloatTensor(valid_data_raw['validxdata'])\n",
    "y_valid = torch.FloatTensor(valid_data_raw['validdata'])"
   ]
  },
  {
   "cell_type": "markdown",
   "metadata": {},
   "source": [
    "Each training sample consists of a 1,000-bp sequence from the human GRCh37 reference genome centered on each 200-bp bin and is paired with a label vector for 919 chromatin features. \n",
    "\n",
    "The 1,000-bp DNA sequence is represented by a 1,000 × 4 binary matrix, with columns corresponding to A, G, C and T."
   ]
  },
  {
   "cell_type": "code",
   "execution_count": null,
   "metadata": {},
   "outputs": [],
   "source": [
    "x_train.shape"
   ]
  },
  {
   "cell_type": "code",
   "execution_count": 7,
   "metadata": {},
   "outputs": [
    {
     "data": {
      "text/plain": [
       "(4, 4400000)"
      ]
     },
     "execution_count": 7,
     "metadata": {},
     "output_type": "execute_result"
    }
   ],
   "source": [
    "x_train[0].shape"
   ]
  },
  {
   "cell_type": "code",
   "execution_count": 9,
   "metadata": {},
   "outputs": [
    {
     "data": {
      "text/plain": [
       "(4400000,)"
      ]
     },
     "execution_count": 9,
     "metadata": {},
     "output_type": "execute_result"
    }
   ],
   "source": [
    "y_train[0].shape"
   ]
  },
  {
   "cell_type": "markdown",
   "metadata": {},
   "source": [
    "# Deep Sea"
   ]
  },
  {
   "cell_type": "code",
   "execution_count": 4,
   "metadata": {},
   "outputs": [],
   "source": [
    "nfeats = 4\n",
    "height = 1\n",
    "nkernels = [320,480,960]\n",
    "dropouts = [0.2,0.5]"
   ]
  },
  {
   "cell_type": "code",
   "execution_count": 5,
   "metadata": {},
   "outputs": [],
   "source": [
    "class deep_sea_nn(nn.Module):\n",
    "    def __init__(self):\n",
    "        super().__init__()\n",
    "        self.conv1 = nn.Conv1d(in_channels=nfeats,      out_channels=nkernels[0], kernel_size=8)\n",
    "        self.conv2 = nn.Conv1d(in_channels=nkernels[0], out_channels=nkernels[1], kernel_size=8)\n",
    "        self.conv3 = nn.Conv1d(in_channels=nkernels[1], out_channels=nkernels[2], kernel_size=8)\n",
    "        self.maxpool = nn.MaxPool1d(kernel_size=4, stride=4)\n",
    "        self.drop1 = nn.Dropout(p=dropouts[0])\n",
    "        self.drop2 = nn.Dropout(p=dropouts[1])\n",
    "        self.linear1 = nn.Linear(53*960, 925)\n",
    "        self.linear2 = nn.Linear(925, 919)\n",
    "    \n",
    "    def foward(self, input):\n",
    "        ## convolution 1 ##\n",
    "        ds = self.conv1(input)\n",
    "        ds = F.relu(ds)\n",
    "        ds = self.maxpool(ds)\n",
    "        ds = self.drop1(ds)\n",
    "        \n",
    "        ## convolution 2 ##\n",
    "        ds = self.conv2(ds)\n",
    "        ds = F.relu(ds)\n",
    "        ds = self.maxpool(ds)\n",
    "        ds = self.drop1(ds)\n",
    "        \n",
    "        ## convolution 3 ##\n",
    "        ds = self.conv3(ds)\n",
    "        ds = F.relu(ds)\n",
    "        ds = self.drop2(ds)\n",
    "        \n",
    "        ds = ds.view(-1, 53*960)\n",
    "        ds = self.Linear1(ds)\n",
    "        ds = F.relu(x)\n",
    "        ds = self.Linear2(ds)\n",
    "        \n",
    "        return ds\n",
    "        "
   ]
  },
  {
   "cell_type": "code",
   "execution_count": 6,
   "metadata": {},
   "outputs": [],
   "source": [
    "## HYPERPARMETERS\n",
    "params = {'batch_size': 100,'num_workers': 2}\n",
    "device = 'cuda'\n",
    "\n",
    "learning_rate = 0.01\n",
    "batch_size = 100\n",
    "epochs = 10"
   ]
  },
  {
   "cell_type": "code",
   "execution_count": 7,
   "metadata": {},
   "outputs": [
    {
     "name": "stdout",
     "output_type": "stream",
     "text": [
      "deep_sea_nn(\n",
      "  (conv1): Conv1d(4, 320, kernel_size=(8,), stride=(1,))\n",
      "  (conv2): Conv1d(320, 480, kernel_size=(8,), stride=(1,))\n",
      "  (conv3): Conv1d(480, 960, kernel_size=(8,), stride=(1,))\n",
      "  (maxpool): MaxPool1d(kernel_size=4, stride=4, padding=0, dilation=1, ceil_mode=False)\n",
      "  (drop1): Dropout(p=0.2)\n",
      "  (drop2): Dropout(p=0.5)\n",
      "  (linear1): Linear(in_features=50880, out_features=925, bias=True)\n",
      "  (linear2): Linear(in_features=925, out_features=919, bias=True)\n",
      ")\n"
     ]
    }
   ],
   "source": [
    "deep_sea = deep_sea_nn()\n",
    "#deep_sea.to(device)\n",
    "print(deep_sea)\n",
    "\n",
    "optimizer = optim.SGD(deep_sea.parameters(), lr=learning_rate,momentum=0.9)\n",
    "scheduler = torch.optim.lr_scheduler.ReduceLROnPlateau(optimizer, patience=5,verbose=1)\n",
    "loss_func = nn.BCEWithLogitsLoss()"
   ]
  },
  {
   "cell_type": "code",
   "execution_count": 8,
   "metadata": {},
   "outputs": [],
   "source": [
    "valid_loader = Data.DataLoader(dataset=Data.TensorDataset(x_valid, y_valid), shuffle=False,**params)"
   ]
  },
  {
   "cell_type": "code",
   "execution_count": 10,
   "metadata": {},
   "outputs": [],
   "source": [
    "a = np.load(DATA_PATH+\"x_train_part_0.npy\")"
   ]
  },
  {
   "cell_type": "code",
   "execution_count": 11,
   "metadata": {},
   "outputs": [
    {
     "data": {
      "text/plain": [
       "(1, 4, 4400000)"
      ]
     },
     "execution_count": 11,
     "metadata": {},
     "output_type": "execute_result"
    }
   ],
   "source": [
    "a.shape"
   ]
  },
  {
   "cell_type": "code",
   "execution_count": 9,
   "metadata": {},
   "outputs": [
    {
     "ename": "RuntimeError",
     "evalue": "shape '[-1, 50880]' is invalid for input of size 263990400",
     "output_type": "error",
     "traceback": [
      "\u001b[0;31m---------------------------------------------------------------------------\u001b[0m",
      "\u001b[0;31mRuntimeError\u001b[0m                              Traceback (most recent call last)",
      "\u001b[0;32m<ipython-input-9-80e55e3be1b3>\u001b[0m in \u001b[0;36m<module>\u001b[0;34m\u001b[0m\n\u001b[1;32m     19\u001b[0m             \u001b[0moptimizer\u001b[0m\u001b[0;34m.\u001b[0m\u001b[0mzero_grad\u001b[0m\u001b[0;34m(\u001b[0m\u001b[0;34m)\u001b[0m\u001b[0;34m\u001b[0m\u001b[0;34m\u001b[0m\u001b[0m\n\u001b[1;32m     20\u001b[0m \u001b[0;34m\u001b[0m\u001b[0m\n\u001b[0;32m---> 21\u001b[0;31m             \u001b[0mout\u001b[0m \u001b[0;34m=\u001b[0m \u001b[0mdeep_sea\u001b[0m\u001b[0;34m.\u001b[0m\u001b[0mfoward\u001b[0m\u001b[0;34m(\u001b[0m\u001b[0mx\u001b[0m\u001b[0;34m)\u001b[0m\u001b[0;34m\u001b[0m\u001b[0;34m\u001b[0m\u001b[0m\n\u001b[0m\u001b[1;32m     22\u001b[0m             \u001b[0mloss\u001b[0m \u001b[0;34m=\u001b[0m \u001b[0mloss_func\u001b[0m\u001b[0;34m(\u001b[0m\u001b[0mout\u001b[0m\u001b[0;34m.\u001b[0m\u001b[0mto\u001b[0m\u001b[0;34m(\u001b[0m\u001b[0mdevice\u001b[0m\u001b[0;34m)\u001b[0m\u001b[0;34m,\u001b[0m \u001b[0my\u001b[0m\u001b[0;34m)\u001b[0m\u001b[0;34m\u001b[0m\u001b[0;34m\u001b[0m\u001b[0m\n\u001b[1;32m     23\u001b[0m             \u001b[0mloss\u001b[0m\u001b[0;34m.\u001b[0m\u001b[0mbackward\u001b[0m\u001b[0;34m(\u001b[0m\u001b[0;34m)\u001b[0m\u001b[0;34m\u001b[0m\u001b[0;34m\u001b[0m\u001b[0m\n",
      "\u001b[0;32m<ipython-input-5-d72a379fd86e>\u001b[0m in \u001b[0;36mfoward\u001b[0;34m(self, input)\u001b[0m\n\u001b[1;32m     29\u001b[0m         \u001b[0mds\u001b[0m \u001b[0;34m=\u001b[0m \u001b[0mself\u001b[0m\u001b[0;34m.\u001b[0m\u001b[0mdrop2\u001b[0m\u001b[0;34m(\u001b[0m\u001b[0mds\u001b[0m\u001b[0;34m)\u001b[0m\u001b[0;34m\u001b[0m\u001b[0;34m\u001b[0m\u001b[0m\n\u001b[1;32m     30\u001b[0m \u001b[0;34m\u001b[0m\u001b[0m\n\u001b[0;32m---> 31\u001b[0;31m         \u001b[0mds\u001b[0m \u001b[0;34m=\u001b[0m \u001b[0mds\u001b[0m\u001b[0;34m.\u001b[0m\u001b[0mview\u001b[0m\u001b[0;34m(\u001b[0m\u001b[0;34m-\u001b[0m\u001b[0;36m1\u001b[0m\u001b[0;34m,\u001b[0m \u001b[0;36m53\u001b[0m\u001b[0;34m*\u001b[0m\u001b[0;36m960\u001b[0m\u001b[0;34m)\u001b[0m\u001b[0;34m\u001b[0m\u001b[0;34m\u001b[0m\u001b[0m\n\u001b[0m\u001b[1;32m     32\u001b[0m         \u001b[0mds\u001b[0m \u001b[0;34m=\u001b[0m \u001b[0mself\u001b[0m\u001b[0;34m.\u001b[0m\u001b[0mLinear1\u001b[0m\u001b[0;34m(\u001b[0m\u001b[0mds\u001b[0m\u001b[0;34m)\u001b[0m\u001b[0;34m\u001b[0m\u001b[0;34m\u001b[0m\u001b[0m\n\u001b[1;32m     33\u001b[0m         \u001b[0mds\u001b[0m \u001b[0;34m=\u001b[0m \u001b[0mF\u001b[0m\u001b[0;34m.\u001b[0m\u001b[0mrelu\u001b[0m\u001b[0;34m(\u001b[0m\u001b[0mx\u001b[0m\u001b[0;34m)\u001b[0m\u001b[0;34m\u001b[0m\u001b[0;34m\u001b[0m\u001b[0m\n",
      "\u001b[0;31mRuntimeError\u001b[0m: shape '[-1, 50880]' is invalid for input of size 263990400"
     ]
    }
   ],
   "source": [
    "train_losses, valid_losses = [], []\n",
    "running_loss = 0\n",
    "running_val_loss = 0\n",
    "\n",
    "for epoch in range(epochs):\n",
    "    running_loss = 0\n",
    "    deep_sea.train()\n",
    "    ### for each part of the training set ###\n",
    "    for i in range(0,10):\n",
    "        x_train = torch.FloatTensor(np.load(DATA_PATH+\"x_train_part_{}.npy\".format(i)))\n",
    "        y_train = torch.FloatTensor(np.load(DATA_PATH+\"y_train_part_{}.npy\".format(i)))\n",
    "        \n",
    "        train_loader = Data.DataLoader(dataset=Data.TensorDataset(x_train, y_train), shuffle=True, **params)\n",
    "        \n",
    "        for i, (inputs, labels) in enumerate(train_loader):\n",
    "            #x, y = inputs.to(device), labels.to(device)\n",
    "            x, y = inputs, labels\n",
    "            \n",
    "            optimizer.zero_grad()\n",
    "            \n",
    "            out = deep_sea.foward(x)\n",
    "            loss = loss_func(out.to(device), y)\n",
    "            loss.backward()\n",
    "            optimizer.step()\n",
    "            \n",
    "            running_loss = loss.item()\n",
    "            train_losses.append(running_loss)\n",
    "            \n",
    "    ## Validation ##\n",
    "    for i, (inputs, labels) in enumerate(valid_loader):\n",
    "        model.eval()\n",
    "        with torch.no_grad():\n",
    "            x, y = inputs.to(device), labels.to(device)\n",
    "\n",
    "            val_out = deep_sea.foward(x)\n",
    "            val_loss = loss_func(val_out, y)\n",
    "\n",
    "            running_val_loss = val_loss.item()\n",
    "            valid_losses(running_val_loss)\n",
    "\n",
    "    print(f\"Epoch {epoch+1}/{epochs}.. \"\n",
    "          f\"Train loss: {train_losses}.. \"\n",
    "          f\"Validation loss: {valid_losses}.. \")\n",
    "            \n",
    "            "
   ]
  },
  {
   "cell_type": "code",
   "execution_count": null,
   "metadata": {},
   "outputs": [],
   "source": []
  }
 ],
 "metadata": {
  "kernelspec": {
   "display_name": "Python 3",
   "language": "python",
   "name": "python3"
  },
  "language_info": {
   "codemirror_mode": {
    "name": "ipython",
    "version": 3
   },
   "file_extension": ".py",
   "mimetype": "text/x-python",
   "name": "python",
   "nbconvert_exporter": "python",
   "pygments_lexer": "ipython3",
   "version": "3.6.8"
  }
 },
 "nbformat": 4,
 "nbformat_minor": 4
}
