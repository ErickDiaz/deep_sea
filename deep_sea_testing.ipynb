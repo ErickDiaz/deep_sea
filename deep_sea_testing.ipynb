{
 "cells": [
  {
   "cell_type": "code",
   "execution_count": 1,
   "metadata": {},
   "outputs": [],
   "source": [
    "import torch\n",
    "import numpy as np\n",
    "from torch import nn, optim\n",
    "import torch.nn.functional as F\n",
    "import scipy.io\n",
    "import torch.utils.data as Data\n",
    "import time\n",
    "import matplotlib.pyplot as plt\n",
    "from sklearn.metrics import roc_auc_score,roc_curve,auc,average_precision_score,precision_recall_curve"
   ]
  },
  {
   "cell_type": "code",
   "execution_count": 2,
   "metadata": {},
   "outputs": [],
   "source": [
    "import model "
   ]
  },
  {
   "cell_type": "code",
   "execution_count": 10,
   "metadata": {},
   "outputs": [],
   "source": [
    "DATA_PATH = 'deepsea_train/'\n",
    "device = 'cuda'\n",
    "BATCH_SIZE = 100"
   ]
  },
  {
   "cell_type": "markdown",
   "metadata": {},
   "source": [
    "### Loading test data"
   ]
  },
  {
   "cell_type": "code",
   "execution_count": 8,
   "metadata": {},
   "outputs": [],
   "source": [
    "test_data_raw = scipy.io.loadmat(DATA_PATH+'test.mat')\n",
    "x_test = torch.FloatTensor(test_data_raw['testxdata'])\n",
    "y_test = torch.FloatTensor(test_data_raw['testdata'])"
   ]
  },
  {
   "cell_type": "markdown",
   "metadata": {},
   "source": [
    "# Deep Sea Predictions"
   ]
  },
  {
   "cell_type": "code",
   "execution_count": 9,
   "metadata": {},
   "outputs": [
    {
     "name": "stdout",
     "output_type": "stream",
     "text": [
      "deep_sea_nn(\n",
      "  (conv1): Conv1d(4, 320, kernel_size=(8,), stride=(1,))\n",
      "  (conv2): Conv1d(320, 480, kernel_size=(8,), stride=(1,))\n",
      "  (conv3): Conv1d(480, 960, kernel_size=(8,), stride=(1,))\n",
      "  (maxpool): MaxPool1d(kernel_size=4, stride=4, padding=0, dilation=1, ceil_mode=False)\n",
      "  (drop1): Dropout(p=0.2)\n",
      "  (drop2): Dropout(p=0.5)\n",
      "  (linear1): Linear(in_features=50880, out_features=925, bias=True)\n",
      "  (linear2): Linear(in_features=925, out_features=919, bias=True)\n",
      ")\n"
     ]
    }
   ],
   "source": [
    "deep_sea = model.deep_sea_nn()\n",
    "deep_sea.load_state_dict(torch.load('deep_sea_model_params.pth'))\n",
    "deep_sea.to(device)\n",
    "loss_func = nn.BCEWithLogitsLoss()\n",
    "print(deep_sea)"
   ]
  },
  {
   "cell_type": "code",
   "execution_count": 11,
   "metadata": {},
   "outputs": [],
   "source": [
    "test_loader = Data.DataLoader( dataset=Data.TensorDataset(x_test, y_test),\n",
    "    batch_size=BATCH_SIZE,\n",
    "    shuffle=False,\n",
    "    num_workers=2,\n",
    "    drop_last=False,\n",
    ")"
   ]
  },
  {
   "cell_type": "code",
   "execution_count": 20,
   "metadata": {},
   "outputs": [
    {
     "name": "stdout",
     "output_type": "stream",
     "text": [
      "starting testing\n",
      "#### Testing started  ...\n",
      "#### Testing time elapsed: 62.71815347671509\n"
     ]
    }
   ],
   "source": [
    "print('starting testing')\n",
    "\n",
    "test_losses = []\n",
    "y_pred = np.zeros([455024, 919])\n",
    "running_test_loss = 0\n",
    "deep_sea.eval()\n",
    "\n",
    "start_time = time.time()\n",
    "print('#### Testing started  ...')\n",
    "for step, (seq, label) in enumerate(test_loader):\n",
    "    x, y = seq.to(device), label.to(device)\n",
    "    \n",
    "    test_out = deep_sea.foward(x)\n",
    "    test_loss = loss_func(test_out, y)\n",
    "\n",
    "    running_test_loss = test_loss.item()\n",
    "    test_losses.append(running_test_loss)\n",
    "            \n",
    "    test_output = torch.sigmoid(test_out.cpu().data)\n",
    "    \n",
    "    if(step<4550):\n",
    "        for i, j in zip(range(step*100, (step+1)*100),range(0, 100)):\n",
    "            y_pred[i, :] = test_output.numpy()[j, :]\n",
    "    else:\n",
    "        for i,j in zip(range(455000,455024),range(0,24)):\n",
    "            y_pred[i, :] = test_output.numpy()[j, :]\n",
    "    \n",
    "    \n",
    "time_elapsed = time.time() - start_time\n",
    "print('#### Testing time elapsed:', time_elapsed)"
   ]
  },
  {
   "cell_type": "code",
   "execution_count": 22,
   "metadata": {},
   "outputs": [],
   "source": [
    "## Saving predictions\n",
    "np.save('pred_deep_sea_model_20191022',y_pred)"
   ]
  },
  {
   "cell_type": "code",
   "execution_count": null,
   "metadata": {},
   "outputs": [],
   "source": []
  }
 ],
 "metadata": {
  "kernelspec": {
   "display_name": "Python 3",
   "language": "python",
   "name": "python3"
  },
  "language_info": {
   "codemirror_mode": {
    "name": "ipython",
    "version": 3
   },
   "file_extension": ".py",
   "mimetype": "text/x-python",
   "name": "python",
   "nbconvert_exporter": "python",
   "pygments_lexer": "ipython3",
   "version": "3.6.8"
  }
 },
 "nbformat": 4,
 "nbformat_minor": 4
}
